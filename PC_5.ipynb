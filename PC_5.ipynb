{
 "cells": [
  {
   "cell_type": "code",
   "execution_count": 1,
   "id": "054a7e84-5f65-4aa1-a8db-f3c9f19a7c78",
   "metadata": {},
   "outputs": [],
   "source": [
    "#Parte 1:"
   ]
  },
  {
   "cell_type": "code",
   "execution_count": 2,
   "id": "aafbcc59-90bb-448e-b995-5edc5da05c2f",
   "metadata": {},
   "outputs": [
    {
     "name": "stdout",
     "output_type": "stream",
     "text": [
      "Requirement already satisfied: fiona in c:\\users\\javie\\anaconda3\\lib\\site-packages (1.9.5)\n",
      "Requirement already satisfied: attrs>=19.2.0 in c:\\users\\javie\\anaconda3\\lib\\site-packages (from fiona) (24.2.0)\n",
      "Requirement already satisfied: certifi in c:\\users\\javie\\anaconda3\\lib\\site-packages (from fiona) (2024.8.30)\n",
      "Requirement already satisfied: click~=8.0 in c:\\users\\javie\\anaconda3\\lib\\site-packages (from fiona) (8.1.7)\n",
      "Requirement already satisfied: click-plugins>=1.0 in c:\\users\\javie\\anaconda3\\lib\\site-packages (from fiona) (1.1.1)\n",
      "Requirement already satisfied: cligj>=0.5 in c:\\users\\javie\\anaconda3\\lib\\site-packages (from fiona) (0.7.2)\n",
      "Requirement already satisfied: six in c:\\users\\javie\\anaconda3\\lib\\site-packages (from fiona) (1.16.0)\n",
      "Requirement already satisfied: setuptools in c:\\users\\javie\\anaconda3\\lib\\site-packages (from fiona) (75.1.0)\n",
      "Requirement already satisfied: colorama in c:\\users\\javie\\anaconda3\\lib\\site-packages (from click~=8.0->fiona) (0.4.6)\n",
      "Note: you may need to restart the kernel to use updated packages.\n"
     ]
    }
   ],
   "source": [
    "pip install fiona"
   ]
  },
  {
   "cell_type": "code",
   "execution_count": 3,
   "id": "ede5cf86-c583-4824-92f4-f9ede4123f62",
   "metadata": {},
   "outputs": [
    {
     "data": {
      "text/plain": [
       "['indicators', 'countries', 'rivers', 'cities']"
      ]
     },
     "execution_count": 3,
     "metadata": {},
     "output_type": "execute_result"
    }
   ],
   "source": [
    "linkWorldMap=\"https://github.com/CienciaDeDatosEspacial/intro_geodataframe/raw/main/maps/worldMaps.gpkg\"\n",
    "\n",
    "\n",
    "import geopandas as gpd\n",
    "from  fiona import listlayers\n",
    "listlayers(linkWorldMap)"
   ]
  },
  {
   "cell_type": "code",
   "execution_count": 4,
   "id": "7bd91b07-6946-4dbf-8b19-75e18f4a3b36",
   "metadata": {},
   "outputs": [],
   "source": [
    "countries=gpd.read_file(linkWorldMap,layer='countries')\n",
    "rivers=gpd.read_file(linkWorldMap,layer='rivers')\n",
    "cities=gpd.read_file(linkWorldMap,layer='cities')\n",
    "indicators=gpd.read_file(linkWorldMap,layer='indicators')"
   ]
  },
  {
   "cell_type": "code",
   "execution_count": 5,
   "id": "95a0c3f7-a4b5-438d-a656-a50b605d6c97",
   "metadata": {},
   "outputs": [
    {
     "data": {
      "text/html": [
       "<div>\n",
       "<style scoped>\n",
       "    .dataframe tbody tr th:only-of-type {\n",
       "        vertical-align: middle;\n",
       "    }\n",
       "\n",
       "    .dataframe tbody tr th {\n",
       "        vertical-align: top;\n",
       "    }\n",
       "\n",
       "    .dataframe thead th {\n",
       "        text-align: right;\n",
       "    }\n",
       "</style>\n",
       "<table border=\"1\" class=\"dataframe\">\n",
       "  <thead>\n",
       "    <tr style=\"text-align: right;\">\n",
       "      <th></th>\n",
       "      <th>COUNTRY</th>\n",
       "      <th>geometry</th>\n",
       "    </tr>\n",
       "  </thead>\n",
       "  <tbody>\n",
       "    <tr>\n",
       "      <th>0</th>\n",
       "      <td>Aruba (Netherlands)</td>\n",
       "      <td>MULTIPOLYGON (((-69.88223 12.41111, -69.94695 ...</td>\n",
       "    </tr>\n",
       "    <tr>\n",
       "      <th>1</th>\n",
       "      <td>Antigua and Barbuda</td>\n",
       "      <td>MULTIPOLYGON (((-61.73889 17.54055, -61.75195 ...</td>\n",
       "    </tr>\n",
       "    <tr>\n",
       "      <th>2</th>\n",
       "      <td>Afghanistan</td>\n",
       "      <td>MULTIPOLYGON (((61.27656 35.60725, 61.29638 35...</td>\n",
       "    </tr>\n",
       "    <tr>\n",
       "      <th>3</th>\n",
       "      <td>Algeria</td>\n",
       "      <td>MULTIPOLYGON (((-5.15213 30.18047, -5.13917 30...</td>\n",
       "    </tr>\n",
       "    <tr>\n",
       "      <th>4</th>\n",
       "      <td>Azerbaijan</td>\n",
       "      <td>MULTIPOLYGON (((46.54037 38.87559, 46.49554 38...</td>\n",
       "    </tr>\n",
       "  </tbody>\n",
       "</table>\n",
       "</div>"
      ],
      "text/plain": [
       "               COUNTRY                                           geometry\n",
       "0  Aruba (Netherlands)  MULTIPOLYGON (((-69.88223 12.41111, -69.94695 ...\n",
       "1  Antigua and Barbuda  MULTIPOLYGON (((-61.73889 17.54055, -61.75195 ...\n",
       "2          Afghanistan  MULTIPOLYGON (((61.27656 35.60725, 61.29638 35...\n",
       "3              Algeria  MULTIPOLYGON (((-5.15213 30.18047, -5.13917 30...\n",
       "4           Azerbaijan  MULTIPOLYGON (((46.54037 38.87559, 46.49554 38..."
      ]
     },
     "execution_count": 5,
     "metadata": {},
     "output_type": "execute_result"
    }
   ],
   "source": [
    "countries.head()"
   ]
  },
  {
   "cell_type": "code",
   "execution_count": 6,
   "id": "1ab1f1c2-60bf-4729-a783-980af15ed29f",
   "metadata": {},
   "outputs": [
    {
     "data": {
      "text/html": [
       "<div>\n",
       "<style scoped>\n",
       "    .dataframe tbody tr th:only-of-type {\n",
       "        vertical-align: middle;\n",
       "    }\n",
       "\n",
       "    .dataframe tbody tr th {\n",
       "        vertical-align: top;\n",
       "    }\n",
       "\n",
       "    .dataframe thead th {\n",
       "        text-align: right;\n",
       "    }\n",
       "</style>\n",
       "<table border=\"1\" class=\"dataframe\">\n",
       "  <thead>\n",
       "    <tr style=\"text-align: right;\">\n",
       "      <th></th>\n",
       "      <th>COUNTRY</th>\n",
       "      <th>geometry</th>\n",
       "    </tr>\n",
       "  </thead>\n",
       "  <tbody>\n",
       "    <tr>\n",
       "      <th>50</th>\n",
       "      <td>Central African Republic</td>\n",
       "      <td>MULTIPOLYGON (((20.45330 4.52379, 20.45798 4.6...</td>\n",
       "    </tr>\n",
       "    <tr>\n",
       "      <th>51</th>\n",
       "      <td>Cuba</td>\n",
       "      <td>MULTIPOLYGON (((-76.94608 21.45221, -76.88390 ...</td>\n",
       "    </tr>\n",
       "    <tr>\n",
       "      <th>52</th>\n",
       "      <td>Cape Verde</td>\n",
       "      <td>MULTIPOLYGON (((-25.28139 16.91333, -25.29861 ...</td>\n",
       "    </tr>\n",
       "    <tr>\n",
       "      <th>53</th>\n",
       "      <td>Cook Islands (New Zealand)</td>\n",
       "      <td>MULTIPOLYGON (((-165.84167 -10.89084, -165.848...</td>\n",
       "    </tr>\n",
       "    <tr>\n",
       "      <th>54</th>\n",
       "      <td>Cyprus</td>\n",
       "      <td>MULTIPOLYGON (((33.27229 34.70955, 33.21722 34...</td>\n",
       "    </tr>\n",
       "    <tr>\n",
       "      <th>...</th>\n",
       "      <td>...</td>\n",
       "      <td>...</td>\n",
       "    </tr>\n",
       "    <tr>\n",
       "      <th>247</th>\n",
       "      <td>South Sudan</td>\n",
       "      <td>MULTIPOLYGON (((34.21807 9.96458, 34.20722 9.9...</td>\n",
       "    </tr>\n",
       "    <tr>\n",
       "      <th>248</th>\n",
       "      <td>Indonesia</td>\n",
       "      <td>MULTIPOLYGON (((123.21846 -10.80917, 123.19832...</td>\n",
       "    </tr>\n",
       "    <tr>\n",
       "      <th>249</th>\n",
       "      <td>East Timor</td>\n",
       "      <td>MULTIPOLYGON (((124.41824 -9.30010, 124.40446 ...</td>\n",
       "    </tr>\n",
       "    <tr>\n",
       "      <th>250</th>\n",
       "      <td>Curacao (Netherlands)</td>\n",
       "      <td>MULTIPOLYGON (((-68.96556 12.19889, -68.91196 ...</td>\n",
       "    </tr>\n",
       "    <tr>\n",
       "      <th>251</th>\n",
       "      <td>Bonaire (Netherlands)</td>\n",
       "      <td>MULTIPOLYGON (((-68.19736 12.22264, -68.19292 ...</td>\n",
       "    </tr>\n",
       "  </tbody>\n",
       "</table>\n",
       "<p>202 rows × 2 columns</p>\n",
       "</div>"
      ],
      "text/plain": [
       "                        COUNTRY  \\\n",
       "50     Central African Republic   \n",
       "51                         Cuba   \n",
       "52                   Cape Verde   \n",
       "53   Cook Islands (New Zealand)   \n",
       "54                       Cyprus   \n",
       "..                          ...   \n",
       "247                 South Sudan   \n",
       "248                   Indonesia   \n",
       "249                  East Timor   \n",
       "250       Curacao (Netherlands)   \n",
       "251       Bonaire (Netherlands)   \n",
       "\n",
       "                                              geometry  \n",
       "50   MULTIPOLYGON (((20.45330 4.52379, 20.45798 4.6...  \n",
       "51   MULTIPOLYGON (((-76.94608 21.45221, -76.88390 ...  \n",
       "52   MULTIPOLYGON (((-25.28139 16.91333, -25.29861 ...  \n",
       "53   MULTIPOLYGON (((-165.84167 -10.89084, -165.848...  \n",
       "54   MULTIPOLYGON (((33.27229 34.70955, 33.21722 34...  \n",
       "..                                                 ...  \n",
       "247  MULTIPOLYGON (((34.21807 9.96458, 34.20722 9.9...  \n",
       "248  MULTIPOLYGON (((123.21846 -10.80917, 123.19832...  \n",
       "249  MULTIPOLYGON (((124.41824 -9.30010, 124.40446 ...  \n",
       "250  MULTIPOLYGON (((-68.96556 12.19889, -68.91196 ...  \n",
       "251  MULTIPOLYGON (((-68.19736 12.22264, -68.19292 ...  \n",
       "\n",
       "[202 rows x 2 columns]"
      ]
     },
     "execution_count": 6,
     "metadata": {},
     "output_type": "execute_result"
    }
   ],
   "source": [
    "# as DF\n",
    "countries.iloc[50:,]"
   ]
  },
  {
   "cell_type": "code",
   "execution_count": 7,
   "id": "859b7c09-7118-413a-8550-c839fd4dca9a",
   "metadata": {},
   "outputs": [
    {
     "data": {
      "text/plain": [
       "50     MULTIPOLYGON (((20.45330 4.52379, 20.45798 4.6...\n",
       "51     MULTIPOLYGON (((-76.94608 21.45221, -76.88390 ...\n",
       "52     MULTIPOLYGON (((-25.28139 16.91333, -25.29861 ...\n",
       "53     MULTIPOLYGON (((-165.84167 -10.89084, -165.848...\n",
       "54     MULTIPOLYGON (((33.27229 34.70955, 33.21722 34...\n",
       "                             ...                        \n",
       "247    MULTIPOLYGON (((34.21807 9.96458, 34.20722 9.9...\n",
       "248    MULTIPOLYGON (((123.21846 -10.80917, 123.19832...\n",
       "249    MULTIPOLYGON (((124.41824 -9.30010, 124.40446 ...\n",
       "250    MULTIPOLYGON (((-68.96556 12.19889, -68.91196 ...\n",
       "251    MULTIPOLYGON (((-68.19736 12.22264, -68.19292 ...\n",
       "Name: geometry, Length: 202, dtype: geometry"
      ]
     },
     "execution_count": 7,
     "metadata": {},
     "output_type": "execute_result"
    }
   ],
   "source": [
    "# as DF\n",
    "countries.loc[50:,'geometry']"
   ]
  },
  {
   "cell_type": "code",
   "execution_count": 8,
   "id": "bda4737b-9622-4b0c-9d14-c9bde0f1f16c",
   "metadata": {},
   "outputs": [
    {
     "data": {
      "text/plain": [
       "array([-180.        ,  -90.        ,  180.        ,   83.62359619])"
      ]
     },
     "execution_count": 8,
     "metadata": {},
     "output_type": "execute_result"
    }
   ],
   "source": [
    "countries.total_bounds"
   ]
  },
  {
   "cell_type": "code",
   "execution_count": 9,
   "id": "8da750c8-adaa-4b9a-a623-c234efe8e5e7",
   "metadata": {},
   "outputs": [
    {
     "data": {
      "text/html": [
       "<div>\n",
       "<style scoped>\n",
       "    .dataframe tbody tr th:only-of-type {\n",
       "        vertical-align: middle;\n",
       "    }\n",
       "\n",
       "    .dataframe tbody tr th {\n",
       "        vertical-align: top;\n",
       "    }\n",
       "\n",
       "    .dataframe thead th {\n",
       "        text-align: right;\n",
       "    }\n",
       "</style>\n",
       "<table border=\"1\" class=\"dataframe\">\n",
       "  <thead>\n",
       "    <tr style=\"text-align: right;\">\n",
       "      <th></th>\n",
       "      <th>COUNTRY</th>\n",
       "      <th>geometry</th>\n",
       "    </tr>\n",
       "  </thead>\n",
       "  <tbody>\n",
       "    <tr>\n",
       "      <th>9</th>\n",
       "      <td>American Samoa (US)</td>\n",
       "      <td>MULTIPOLYGON (((-170.74390 -14.37556, -170.749...</td>\n",
       "    </tr>\n",
       "    <tr>\n",
       "      <th>10</th>\n",
       "      <td>Argentina</td>\n",
       "      <td>MULTIPOLYGON (((-71.01648 -36.47591, -70.98195...</td>\n",
       "    </tr>\n",
       "    <tr>\n",
       "      <th>14</th>\n",
       "      <td>Antarctica</td>\n",
       "      <td>MULTIPOLYGON (((-45.14528 -60.76611, -45.15639...</td>\n",
       "    </tr>\n",
       "    <tr>\n",
       "      <th>24</th>\n",
       "      <td>Bolivia</td>\n",
       "      <td>MULTIPOLYGON (((-62.19884 -20.47139, -62.26945...</td>\n",
       "    </tr>\n",
       "    <tr>\n",
       "      <th>29</th>\n",
       "      <td>Brazil</td>\n",
       "      <td>MULTIPOLYGON (((-70.62862 -9.94849, -70.62889 ...</td>\n",
       "    </tr>\n",
       "    <tr>\n",
       "      <th>42</th>\n",
       "      <td>Chile</td>\n",
       "      <td>MULTIPOLYGON (((-73.61806 -51.63390, -73.60494...</td>\n",
       "    </tr>\n",
       "    <tr>\n",
       "      <th>47</th>\n",
       "      <td>Colombia</td>\n",
       "      <td>MULTIPOLYGON (((-81.71306 12.49028, -81.72014 ...</td>\n",
       "    </tr>\n",
       "    <tr>\n",
       "      <th>53</th>\n",
       "      <td>Cook Islands (New Zealand)</td>\n",
       "      <td>MULTIPOLYGON (((-165.84167 -10.89084, -165.848...</td>\n",
       "    </tr>\n",
       "    <tr>\n",
       "      <th>58</th>\n",
       "      <td>Jarvis Island (US)</td>\n",
       "      <td>MULTIPOLYGON (((-160.02115 -0.39806, -160.0281...</td>\n",
       "    </tr>\n",
       "    <tr>\n",
       "      <th>60</th>\n",
       "      <td>Ecuador</td>\n",
       "      <td>MULTIPOLYGON (((-78.70903 -4.58479, -78.72348 ...</td>\n",
       "    </tr>\n",
       "    <tr>\n",
       "      <th>71</th>\n",
       "      <td>Fiji</td>\n",
       "      <td>MULTIPOLYGON (((180.00000 -16.17274, 179.98621...</td>\n",
       "    </tr>\n",
       "    <tr>\n",
       "      <th>72</th>\n",
       "      <td>Falkland Islands (UK)</td>\n",
       "      <td>MULTIPOLYGON (((-59.79139 -51.24945, -59.73195...</td>\n",
       "    </tr>\n",
       "    <tr>\n",
       "      <th>75</th>\n",
       "      <td>French Polynesia (France)</td>\n",
       "      <td>MULTIPOLYGON (((-140.17783 -8.95639, -140.1894...</td>\n",
       "    </tr>\n",
       "    <tr>\n",
       "      <th>158</th>\n",
       "      <td>Niue (New Zealand)</td>\n",
       "      <td>MULTIPOLYGON (((-169.89389 -19.14556, -169.930...</td>\n",
       "    </tr>\n",
       "    <tr>\n",
       "      <th>169</th>\n",
       "      <td>New Zealand</td>\n",
       "      <td>MULTIPOLYGON (((177.91779 -38.94280, 177.90970...</td>\n",
       "    </tr>\n",
       "    <tr>\n",
       "      <th>170</th>\n",
       "      <td>Paraguay</td>\n",
       "      <td>MULTIPOLYGON (((-57.67267 -25.29430, -57.70639...</td>\n",
       "    </tr>\n",
       "    <tr>\n",
       "      <th>171</th>\n",
       "      <td>Pitcairn Islands (UK)</td>\n",
       "      <td>MULTIPOLYGON (((-128.33221 -24.32727, -128.326...</td>\n",
       "    </tr>\n",
       "    <tr>\n",
       "      <th>172</th>\n",
       "      <td>Peru</td>\n",
       "      <td>MULTIPOLYGON (((-69.56750 -10.95056, -69.56844...</td>\n",
       "    </tr>\n",
       "    <tr>\n",
       "      <th>196</th>\n",
       "      <td>St. Helena (UK)</td>\n",
       "      <td>MULTIPOLYGON (((-5.71298 -15.99286, -5.72917 -...</td>\n",
       "    </tr>\n",
       "    <tr>\n",
       "      <th>208</th>\n",
       "      <td>South Georgia and the South Sandwich Is (UK)</td>\n",
       "      <td>MULTIPOLYGON (((-36.99139 -54.35056, -36.99973...</td>\n",
       "    </tr>\n",
       "    <tr>\n",
       "      <th>216</th>\n",
       "      <td>Tokelau (New Zealand)</td>\n",
       "      <td>MULTIPOLYGON (((-171.84805 -9.21889, -171.8588...</td>\n",
       "    </tr>\n",
       "    <tr>\n",
       "      <th>217</th>\n",
       "      <td>Tonga</td>\n",
       "      <td>MULTIPOLYGON (((-173.93921 -18.56889, -173.933...</td>\n",
       "    </tr>\n",
       "    <tr>\n",
       "      <th>231</th>\n",
       "      <td>Uruguay</td>\n",
       "      <td>MULTIPOLYGON (((-58.38889 -33.42250, -58.41590...</td>\n",
       "    </tr>\n",
       "    <tr>\n",
       "      <th>239</th>\n",
       "      <td>Wallis and Futuna (France)</td>\n",
       "      <td>MULTIPOLYGON (((-176.16504 -13.35305, -176.169...</td>\n",
       "    </tr>\n",
       "    <tr>\n",
       "      <th>242</th>\n",
       "      <td>Western Samoa</td>\n",
       "      <td>MULTIPOLYGON (((-172.59650 -13.50911, -172.551...</td>\n",
       "    </tr>\n",
       "  </tbody>\n",
       "</table>\n",
       "</div>"
      ],
      "text/plain": [
       "                                          COUNTRY  \\\n",
       "9                             American Samoa (US)   \n",
       "10                                      Argentina   \n",
       "14                                     Antarctica   \n",
       "24                                        Bolivia   \n",
       "29                                         Brazil   \n",
       "42                                          Chile   \n",
       "47                                       Colombia   \n",
       "53                     Cook Islands (New Zealand)   \n",
       "58                             Jarvis Island (US)   \n",
       "60                                        Ecuador   \n",
       "71                                           Fiji   \n",
       "72                          Falkland Islands (UK)   \n",
       "75                      French Polynesia (France)   \n",
       "158                            Niue (New Zealand)   \n",
       "169                                   New Zealand   \n",
       "170                                      Paraguay   \n",
       "171                         Pitcairn Islands (UK)   \n",
       "172                                          Peru   \n",
       "196                               St. Helena (UK)   \n",
       "208  South Georgia and the South Sandwich Is (UK)   \n",
       "216                         Tokelau (New Zealand)   \n",
       "217                                         Tonga   \n",
       "231                                       Uruguay   \n",
       "239                    Wallis and Futuna (France)   \n",
       "242                                 Western Samoa   \n",
       "\n",
       "                                              geometry  \n",
       "9    MULTIPOLYGON (((-170.74390 -14.37556, -170.749...  \n",
       "10   MULTIPOLYGON (((-71.01648 -36.47591, -70.98195...  \n",
       "14   MULTIPOLYGON (((-45.14528 -60.76611, -45.15639...  \n",
       "24   MULTIPOLYGON (((-62.19884 -20.47139, -62.26945...  \n",
       "29   MULTIPOLYGON (((-70.62862 -9.94849, -70.62889 ...  \n",
       "42   MULTIPOLYGON (((-73.61806 -51.63390, -73.60494...  \n",
       "47   MULTIPOLYGON (((-81.71306 12.49028, -81.72014 ...  \n",
       "53   MULTIPOLYGON (((-165.84167 -10.89084, -165.848...  \n",
       "58   MULTIPOLYGON (((-160.02115 -0.39806, -160.0281...  \n",
       "60   MULTIPOLYGON (((-78.70903 -4.58479, -78.72348 ...  \n",
       "71   MULTIPOLYGON (((180.00000 -16.17274, 179.98621...  \n",
       "72   MULTIPOLYGON (((-59.79139 -51.24945, -59.73195...  \n",
       "75   MULTIPOLYGON (((-140.17783 -8.95639, -140.1894...  \n",
       "158  MULTIPOLYGON (((-169.89389 -19.14556, -169.930...  \n",
       "169  MULTIPOLYGON (((177.91779 -38.94280, 177.90970...  \n",
       "170  MULTIPOLYGON (((-57.67267 -25.29430, -57.70639...  \n",
       "171  MULTIPOLYGON (((-128.33221 -24.32727, -128.326...  \n",
       "172  MULTIPOLYGON (((-69.56750 -10.95056, -69.56844...  \n",
       "196  MULTIPOLYGON (((-5.71298 -15.99286, -5.72917 -...  \n",
       "208  MULTIPOLYGON (((-36.99139 -54.35056, -36.99973...  \n",
       "216  MULTIPOLYGON (((-171.84805 -9.21889, -171.8588...  \n",
       "217  MULTIPOLYGON (((-173.93921 -18.56889, -173.933...  \n",
       "231  MULTIPOLYGON (((-58.38889 -33.42250, -58.41590...  \n",
       "239  MULTIPOLYGON (((-176.16504 -13.35305, -176.169...  \n",
       "242  MULTIPOLYGON (((-172.59650 -13.50911, -172.551...  "
      ]
     },
     "execution_count": 9,
     "metadata": {},
     "output_type": "execute_result"
    }
   ],
   "source": [
    "countries.cx[:0,:0]"
   ]
  },
  {
   "cell_type": "code",
   "execution_count": 10,
   "id": "a7545bf6-b0cf-4a7f-afba-1fbb7578ea74",
   "metadata": {},
   "outputs": [
    {
     "data": {
      "text/plain": [
       "<Axes: >"
      ]
     },
     "execution_count": 10,
     "metadata": {},
     "output_type": "execute_result"
    },
    {
     "data": {
      "image/png": "[encoded data removed]",
      "text/plain": [
       "<Figure size 640x480 with 1 Axes>"
      ]
     },
     "metadata": {},
     "output_type": "display_data"
    }
   ],
   "source": [
    "#then\n",
    "countries.cx[:0,:0].plot()"
   ]
  },
  {
   "cell_type": "code",
   "execution_count": 11,
   "id": "b924c8ee-3d4a-4155-93f3-c550ed9beafe",
   "metadata": {},
   "outputs": [],
   "source": [
    "peru=countries[countries.COUNTRY=='Peru']"
   ]
  },
  {
   "cell_type": "code",
   "execution_count": 12,
   "id": "e28b67d3-7d8a-49d1-b6e3-3a02ee68bdd3",
   "metadata": {},
   "outputs": [],
   "source": [
    "citiesPeru_clipped = gpd.clip(gdf=cities,\n",
    "                          mask=peru)\n",
    "riversPeru_clipped = gpd.clip(gdf=rivers,\n",
    "                               mask=peru)"
   ]
  },
  {
   "cell_type": "code",
   "execution_count": 13,
   "id": "7b3251d5-c232-4662-80b9-8d6293c1c67b",
   "metadata": {},
   "outputs": [
    {
     "data": {
      "text/plain": [
       "<Axes: >"
      ]
     },
     "execution_count": 13,
     "metadata": {},
     "output_type": "execute_result"
    },
    {
     "data": {
      "image/png": "[encoded data removed]",
      "text/plain": [
       "<Figure size 500x500 with 1 Axes>"
      ]
     },
     "metadata": {},
     "output_type": "display_data"
    }
   ],
   "source": [
    "base = peru.plot(facecolor=\"greenyellow\", edgecolor='black', linewidth=0.4,figsize=(5,5))\n",
    "citiesPeru_clipped.plot(marker='+', color='red', markersize=15,\n",
    "                    ax=base)\n",
    "riversPeru_clipped.plot(edgecolor='blue', linewidth=0.5,\n",
    "                    ax=base)"
   ]
  },
  {
   "cell_type": "code",
   "execution_count": 15,
   "id": "23e8dba3-8541-4a72-a047-38c13a8d6277",
   "metadata": {},
   "outputs": [
    {
     "data": {
      "text/plain": [
       "({'MultiPolygon'}, {'Point'}, {'LineString', 'MultiLineString'})"
      ]
     },
     "execution_count": 15,
     "metadata": {},
     "output_type": "execute_result"
    }
   ],
   "source": [
    "set(peru.geom_type), set(citiesPeru_clipped.geom_type), set(riversPeru_clipped.geom_type)"
   ]
  },
  {
   "cell_type": "code",
   "execution_count": null,
   "id": "611d97ee-167b-49fd-860a-b784a80b24f9",
   "metadata": {},
   "outputs": [],
   "source": []
  }
 ],
 "metadata": {
  "kernelspec": {
   "display_name": "Python 3 (ipykernel)",
   "language": "python",
   "name": "python3"
  },
  "language_info": {
   "codemirror_mode": {
    "name": "ipython",
    "version": 3
   },
   "file_extension": ".py",
   "mimetype": "text/x-python",
   "name": "python",
   "nbconvert_exporter": "python",
   "pygments_lexer": "ipython3",
   "version": "3.12.3"
  }
 },
 "nbformat": 4,
 "nbformat_minor": 5
}
